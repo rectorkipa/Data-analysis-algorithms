{
 "cells": [
  {
   "cell_type": "markdown",
   "metadata": {
    "id": "jVKnqZEmWjr0"
   },
   "source": [
    "# Домашнее задание № 3, Кривоногов Н.В."
   ]
  },
  {
   "cell_type": "markdown",
   "metadata": {},
   "source": [
    "1. Измените функцию calc_logloss так, чтобы нули по возможности не попадали в np.log (как вариант - использовать np.clip или np.where). \n",
    "2. На данных из урока изучите влияние гиперпараметров на ошибку алгоритма. \n",
    "3. Создайте функцию calc_pred_proba, возвращающую предсказанную вероятность класса \"1\". На вход функции подаются значения признаков Х и веса, которые уже посчитаны функцией eval_LR_model. \n",
    "4. Создайте функцию calc_pred, возвращающую предсказанные классы (0 или 1). На вход функции подаются значения признаков Х и веса, которые уже посчитаны функцией eval_LR_model, а также порог вероятности. "
   ]
  },
  {
   "cell_type": "code",
   "execution_count": 1,
   "metadata": {},
   "outputs": [],
   "source": [
    "import matplotlib.pyplot as plt\n",
    "import numpy as np\n",
    "\n",
    "%matplotlib inline"
   ]
  },
  {
   "cell_type": "code",
   "execution_count": 2,
   "metadata": {},
   "outputs": [],
   "source": [
    "def sigmoid(z):\n",
    "    res = 1 / (1 + np.exp(-z))\n",
    "    return res"
   ]
  },
  {
   "cell_type": "code",
   "execution_count": 3,
   "metadata": {
    "colab": {},
    "colab_type": "code",
    "id": "FeKFn2yb1To4"
   },
   "outputs": [],
   "source": [
    "X = np.array([ [   1,    1,  500,    1],\n",
    "               [   1,    1,  700,    1],\n",
    "               [   1,    2,  750,    2],\n",
    "               [   1,    5,  600,    1],\n",
    "               [   1,    3, 1450,    2],\n",
    "               [   1,    0,  800,    1],\n",
    "               [   1,    5, 1500,    3],\n",
    "               [   1,   10, 2000,    3],\n",
    "               [   1,    1,  450,    1],\n",
    "               [   1,    2, 1000,    2]], dtype=np.float64)\n",
    "\n",
    "y = np.array([0, 0, 1, 0, 1, 0, 1, 0, 1, 1], dtype=np.float64)"
   ]
  },
  {
   "cell_type": "code",
   "execution_count": 4,
   "metadata": {
    "colab": {},
    "colab_type": "code",
    "id": "M-aO1NTxOUfo"
   },
   "outputs": [],
   "source": [
    "def standard_scale(x):\n",
    "    res = (x - x.mean()) / x.std()\n",
    "    return res"
   ]
  },
  {
   "cell_type": "code",
   "execution_count": 5,
   "metadata": {
    "colab": {},
    "colab_type": "code",
    "id": "D8EL0iGJOVpe"
   },
   "outputs": [],
   "source": [
    "X_st = X.copy()\n",
    "X_st[:, 2] = standard_scale(X[:, 2])"
   ]
  },
  {
   "cell_type": "code",
   "execution_count": null,
   "metadata": {},
   "outputs": [],
   "source": []
  },
  {
   "cell_type": "markdown",
   "metadata": {},
   "source": [
    "1. Измените функцию calc_logloss так, чтобы нули по возможности не попадали в np.log (как вариант - использовать np.clip или np.where)."
   ]
  },
  {
   "cell_type": "code",
   "execution_count": 6,
   "metadata": {
    "colab": {},
    "colab_type": "code",
    "id": "qMR5pOA38dDw"
   },
   "outputs": [],
   "source": [
    "# def calc_logloss(y, y_pred):\n",
    "#     err = - np.mean(y * np.log(y_pred) + (1.0 - y) * np.log(1.0 - y_pred))\n",
    "#     return err"
   ]
  },
  {
   "cell_type": "code",
   "execution_count": 7,
   "metadata": {
    "colab": {},
    "colab_type": "code",
    "id": "qMR5pOA38dDw"
   },
   "outputs": [],
   "source": [
    "# приму, что 0,9999999999 близко к единице, а 0,0000000001 близко к нулю:  \n",
    "\n",
    "def calc_logloss(y, y_pred):\n",
    "    y_pred = np.where(y_pred==1, y_pred-1e-10, np.where(y_pred==0, y_pred+1e-10, y_pred))\n",
    "    err = - np.mean(y * np.log(y_pred) + (1.0 - y) * np.log(1.0 - y_pred))\n",
    "    return err"
   ]
  },
  {
   "cell_type": "code",
   "execution_count": 8,
   "metadata": {
    "colab": {
     "base_uri": "https://localhost:8080/",
     "height": 34
    },
    "colab_type": "code",
    "id": "R6zfOHMrBvnX",
    "outputId": "46df0625-963f-4401-da30-b5b42bcf1be7"
   },
   "outputs": [
    {
     "data": {
      "text/plain": [
       "0.164252033486018"
      ]
     },
     "execution_count": 8,
     "metadata": {},
     "output_type": "execute_result"
    }
   ],
   "source": [
    "# пример применения: \n",
    "\n",
    "y1 = np.array([1, 0])\n",
    "y_pred1 = np.array([0.8, 0.1])\n",
    "calc_logloss(y1, y_pred1)"
   ]
  },
  {
   "cell_type": "code",
   "execution_count": 9,
   "metadata": {},
   "outputs": [
    {
     "data": {
      "text/plain": [
       "0.11157177570710486"
      ]
     },
     "execution_count": 9,
     "metadata": {},
     "output_type": "execute_result"
    }
   ],
   "source": [
    "# теперь неплохой пример применения: \n",
    "\n",
    "y2 = np.array([1, 0])\n",
    "y_pred2 = np.array([1, 0.2])\n",
    "calc_logloss(y2, y_pred2)"
   ]
  },
  {
   "cell_type": "code",
   "execution_count": 10,
   "metadata": {},
   "outputs": [
    {
     "data": {
      "text/plain": [
       "11.8594990552502"
      ]
     },
     "execution_count": 10,
     "metadata": {},
     "output_type": "execute_result"
    }
   ],
   "source": [
    "# теперь неплохой пример применения: \n",
    "\n",
    "y3 = np.array([1, 0])\n",
    "y_pred3 = np.array([0, 0.5])\n",
    "calc_logloss(y3, y_pred3)"
   ]
  },
  {
   "cell_type": "code",
   "execution_count": null,
   "metadata": {},
   "outputs": [],
   "source": []
  },
  {
   "cell_type": "markdown",
   "metadata": {
    "colab": {},
    "colab_type": "code",
    "id": "e6TH-mkPItb6"
   },
   "source": [
    "2. На данных из урока изучите влияние гиперпараметров на ошибку алгоритма. "
   ]
  },
  {
   "cell_type": "code",
   "execution_count": 11,
   "metadata": {
    "colab": {},
    "colab_type": "code",
    "id": "qtgUN3LW-UIq"
   },
   "outputs": [],
   "source": [
    "def eval_model(X, y, iterations, eta):\n",
    "    np.random.seed(42)\n",
    "    W = np.random.randn(X.shape[1])\n",
    "    n = X.shape[0]\n",
    "    \n",
    "    for i in range(iterations):\n",
    "        z = np.dot(X, W)\n",
    "        y_pred = sigmoid(z)\n",
    "        err = calc_logloss(y, y_pred)\n",
    "        \n",
    "        dQ = 1/n * X.T @ (y_pred - y)\n",
    "        W -= eta * dQ\n",
    "        if i % (iterations / 10) == 0:\n",
    "            print(i, W, err)\n",
    "    return W"
   ]
  },
  {
   "cell_type": "code",
   "execution_count": 12,
   "metadata": {},
   "outputs": [
    {
     "name": "stdout",
     "output_type": "stream",
     "text": [
      "0 [ 0.49667621 -0.13840939  0.6476858   1.52297324] 1.1785958344356262\n",
      "50 [ 0.494784   -0.14564801  0.6475462   1.52014828] 1.1657985749255426\n",
      "100 [ 0.49290109 -0.15285535  0.64740132  1.51733474] 1.1531112685708473\n",
      "150 [ 0.49102761 -0.16003088  0.64725118  1.51453281] 1.140535275330502\n",
      "200 [ 0.48916364 -0.16717404  0.64709581  1.51174267] 1.1280719326917483\n",
      "250 [ 0.48730929 -0.17428428  0.64693524  1.50896452] 1.1157225565960736\n",
      "300 [ 0.48546465 -0.18136107  0.64676951  1.50619853] 1.1034884426224387\n",
      "350 [ 0.48362982 -0.18840385  0.64659868  1.5034449 ] 1.0913708674192037\n",
      "400 [ 0.48180488 -0.19541206  0.64642281  1.50070383] 1.0793710903721336\n",
      "450 [ 0.47998993 -0.20238516  0.64624195  1.49797551] 1.0674903554915993\n"
     ]
    }
   ],
   "source": [
    "W = eval_model(X_st, y, 500, 1e-4)\n",
    "\n",
    "# количество итераций 500, eta = 0.0001 - ошибка 1.067"
   ]
  },
  {
   "cell_type": "code",
   "execution_count": 13,
   "metadata": {},
   "outputs": [
    {
     "name": "stdout",
     "output_type": "stream",
     "text": [
      "0 [ 0.49633477 -0.13971518  0.64766116  1.52246371] 1.1785958344356262\n",
      "100 [ 0.46038628 -0.27784345  0.64391879  1.46838117] 0.9449083796207038\n",
      "200 [ 0.42880798 -0.398758    0.63895621  1.42057357] 0.76478635339061\n",
      "300 [ 0.40211124 -0.49592634  0.63495855  1.38143191] 0.6465819250979653\n",
      "400 [ 0.3802473  -0.56578851  0.63387547  1.35226238] 0.5834626177311397\n",
      "500 [ 0.36227303 -0.61296537  0.6357139   1.33157192] 0.5531388819143023\n",
      "600 [ 0.34705426 -0.6447563   0.63955258  1.31689489] 0.5381879835818275\n",
      "700 [ 0.33375348 -0.66658248  0.64461446  1.30632368] 0.5301812678912075\n",
      "800 [ 0.32182152 -0.6818318   0.65041019  1.29860717] 0.5254538963664757\n",
      "900 [ 0.31089651 -0.69260819  0.65664232  1.29292959] 0.5223650188440195\n"
     ]
    }
   ],
   "source": [
    "W = eval_model(X_st, y, 1000, 1e-3)\n",
    "\n",
    "# количество итераций 1000, eta = 0.001 - ошибка 0.522"
   ]
  },
  {
   "cell_type": "code",
   "execution_count": 14,
   "metadata": {},
   "outputs": [
    {
     "name": "stdout",
     "output_type": "stream",
     "text": [
      "0 [ 0.49292028 -0.15277306  0.64741473  1.51736839] 1.1785958344356262\n",
      "500 [ 0.03982235 -0.72064774  0.8585723   1.32719824] 0.49098749514946327\n",
      "1000 [-0.16731955 -0.75357199  0.95172595  1.4635263 ] 0.4764623107233352\n",
      "1500 [-0.33588235 -0.79003576  0.98228783  1.60994271] 0.4660058881458372\n",
      "2000 [-0.49197    -0.82105502  0.98635336  1.74725905] 0.45715487773019997\n",
      "2500 [-0.64217604 -0.84600899  0.97571427  1.87329246] 0.44931211119783515\n",
      "3000 [-0.78827285 -0.86584359  0.95540388  1.98934071] 0.4421846628745265\n",
      "3500 [-0.93081573 -0.88160297  0.92822259  2.09708433] 0.43559915549768197\n",
      "4000 [-1.07003706 -0.89415928  0.89602422  2.19797368] 0.4294461806618587\n",
      "4500 [-1.20607612 -0.90420079  0.86014982  2.29316907] 0.42365350540190166\n"
     ]
    }
   ],
   "source": [
    "W = eval_model(X_st, y, 5000, 1e-2)\n",
    "\n",
    "# количество итераций 5000, eta = 0.01 - ошибка 0.424"
   ]
  },
  {
   "cell_type": "code",
   "execution_count": 15,
   "metadata": {
    "colab": {
     "base_uri": "https://localhost:8080/",
     "height": 190
    },
    "colab_type": "code",
    "id": "oqX7loklBmYZ",
    "outputId": "f4849295-1f14-40d8-c8f2-d1b002e130c5",
    "scrolled": true
   },
   "outputs": [
    {
     "name": "stdout",
     "output_type": "stream",
     "text": [
      "0 [ 0.45877546 -0.2833519   0.6449505   1.46641523] 1.1785958344356262\n",
      "1000 [-2.52102182 -0.94535892  0.39937552  3.13420485] 0.3753336761838008\n",
      "2000 [-4.27828712 -0.98168834 -0.27476935  4.26319069] 0.32663122009930956\n",
      "3000 [-5.56189789 -1.0318158  -0.73874052  5.15242458] 0.29991853172016747\n",
      "4000 [-6.58645538 -1.0857742  -1.0912958   5.89903883] 0.28252262722907645\n",
      "5000 [-7.45579588 -1.13940477 -1.38052844  6.55325919] 0.26979795435357545\n",
      "6000 [-8.22400342 -1.19158043 -1.63004704  7.14381634] 0.2597485783476199\n",
      "7000 [-8.92162316 -1.24206841 -1.8526335   7.6879962 ] 0.25139381160087\n",
      "8000 [-9.56712984 -1.29090081 -2.05579238  8.19673599] 0.24419878346796206\n",
      "9000 [-10.17234391  -1.33818162  -2.24422182   8.677278  ] 0.2378470312254334\n"
     ]
    }
   ],
   "source": [
    "W = eval_model(X_st, y, 10000, 1e-1)\n",
    "\n",
    "# количество итераций 10000, eta = 0.1 - ошибка 0.238"
   ]
  },
  {
   "cell_type": "markdown",
   "metadata": {},
   "source": [
    "Вывод: при увеличении количества итераций и скорости (множителя) eta ошибка уменьшается. Правда eta нужно увеличивать аккуратно, чтобы не проскочить минимум при пошаговом градиентном спуске. "
   ]
  },
  {
   "cell_type": "code",
   "execution_count": null,
   "metadata": {},
   "outputs": [],
   "source": []
  },
  {
   "cell_type": "markdown",
   "metadata": {},
   "source": [
    "3. Создайте функцию calc_pred_proba, возвращающую предсказанную вероятность класса \"1\". На вход функции подаются значения признаков Х и веса, которые уже посчитаны функцией eval_LR_model. "
   ]
  },
  {
   "cell_type": "code",
   "execution_count": 16,
   "metadata": {},
   "outputs": [],
   "source": [
    "def calc_pred_proba(X, W):\n",
    "    y_pred_proba = sigmoid(np.dot(X, W))\n",
    "    return y_pred_proba"
   ]
  },
  {
   "cell_type": "code",
   "execution_count": 17,
   "metadata": {},
   "outputs": [
    {
     "data": {
      "text/plain": [
       "array([0.34909794, 0.16499718, 0.99721038, 0.00128184, 0.73112245,\n",
       "       0.32370941, 0.99918939, 0.0911856 , 0.40772414, 0.99034837])"
      ]
     },
     "execution_count": 17,
     "metadata": {},
     "output_type": "execute_result"
    }
   ],
   "source": [
    "calc_pred_proba(X_st, W)"
   ]
  },
  {
   "cell_type": "code",
   "execution_count": null,
   "metadata": {},
   "outputs": [],
   "source": []
  },
  {
   "cell_type": "markdown",
   "metadata": {},
   "source": [
    "4. Создайте функцию calc_pred, возвращающую предсказанные классы (0 или 1). На вход функции подаются значения признаков Х и веса, которые уже посчитаны функцией eval_LR_model, а также порог вероятности."
   ]
  },
  {
   "cell_type": "code",
   "execution_count": 18,
   "metadata": {},
   "outputs": [],
   "source": [
    "def calc_pred(X, W, threshold):\n",
    "    m = X.shape[0]\n",
    "    y_predicted = np.zeros(m)\n",
    "    A = np.squeeze(sigmoid(np.dot(X, W)))\n",
    "    for i in range(A.shape[0]):\n",
    "        if (A[i] > threshold): \n",
    "            y_predicted[i] = 1\n",
    "        elif (A[i] <= threshold):\n",
    "            y_predicted[i] = 0\n",
    "    return y_predicted"
   ]
  },
  {
   "cell_type": "code",
   "execution_count": 19,
   "metadata": {},
   "outputs": [
    {
     "data": {
      "text/plain": [
       "array([0., 0., 1., 0., 1., 0., 1., 0., 0., 1.])"
      ]
     },
     "execution_count": 19,
     "metadata": {},
     "output_type": "execute_result"
    }
   ],
   "source": [
    "calc_pred(X_st, W, 0.5)"
   ]
  }
 ],
 "metadata": {
  "colab": {
   "collapsed_sections": [],
   "name": "Lesson_3.ipynb",
   "provenance": []
  },
  "kernelspec": {
   "display_name": "Python 3 (ipykernel)",
   "language": "python",
   "name": "python3"
  },
  "language_info": {
   "codemirror_mode": {
    "name": "ipython",
    "version": 3
   },
   "file_extension": ".py",
   "mimetype": "text/x-python",
   "name": "python",
   "nbconvert_exporter": "python",
   "pygments_lexer": "ipython3",
   "version": "3.9.13"
  }
 },
 "nbformat": 4,
 "nbformat_minor": 1
}
